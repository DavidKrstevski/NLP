{
 "cells": [
  {
   "cell_type": "code",
   "execution_count": 7,
   "id": "3a61fbfe",
   "metadata": {},
   "outputs": [
    {
     "name": "stdout",
     "output_type": "stream",
     "text": [
      "Yelp:                                                sentence  label\n",
      "0                             Wow... Loved this place.      1\n",
      "1                                   Crust is not good.      0\n",
      "2            Not tasty and the texture was just nasty.      0\n",
      "3    Stopped by during the late May bank holiday of...      1\n",
      "4    The selection on the menu was great and so wer...      1\n",
      "..                                                 ...    ...\n",
      "995  I think food should have flavor and texture an...      0\n",
      "996                           Appetite instantly gone.      0\n",
      "997  Overall I was not impressed and would not go b...      0\n",
      "998  The whole experience was underwhelming, and I ...      0\n",
      "999  Then, as if I hadn't wasted enough of my life ...      0\n",
      "\n",
      "[1000 rows x 2 columns]\n",
      "Amazon:                                                sentence  label\n",
      "0    So there is no way for me to plug it in here i...      0\n",
      "1                          Good case, Excellent value.      1\n",
      "2                               Great for the jawbone.      1\n",
      "3    Tied to charger for conversations lasting more...      0\n",
      "4                                    The mic is great.      1\n",
      "..                                                 ...    ...\n",
      "995  The screen does get smudged easily because it ...      0\n",
      "996  What a piece of junk.. I lose more calls on th...      0\n",
      "997                       Item Does Not Match Picture.      0\n",
      "998  The only thing that disappoint me is the infra...      0\n",
      "999  You can not answer calls with the unit, never ...      0\n",
      "\n",
      "[1000 rows x 2 columns]\n",
      "IMDB:                                                sentence  label\n",
      "0    A very, very, very slow-moving, aimless movie ...      0\n",
      "1    Not sure who was more lost - the flat characte...      0\n",
      "2    Attempting artiness with black & white and cle...      0\n",
      "3         Very little music or anything to speak of.        0\n",
      "4    The best scene in the movie was when Gerardo i...      1\n",
      "..                                                 ...    ...\n",
      "743  I just got bored watching Jessice Lange take h...      0\n",
      "744  Unfortunately, any virtue in this film's produ...      0\n",
      "745                   In a word, it is embarrassing.        0\n",
      "746                               Exceptionally bad!        0\n",
      "747  All in all its an insult to one's intelligence...      0\n",
      "\n",
      "[748 rows x 2 columns]\n"
     ]
    }
   ],
   "source": [
    "import pandas as pd\n",
    "\n",
    "df_yelp = pd.read_csv('./sentiment labelled sentences/yelp_labelled.txt', names=['sentence', 'label'], sep='\\t')\n",
    "df_amazon = pd.read_csv('./sentiment labelled sentences/amazon_cells_labelled.txt', names=['sentence', 'label'], sep='\\t')\n",
    "df_imdb = pd.read_csv('./sentiment labelled sentences/imdb_labelled.txt', names=['sentence', 'label'], sep='\\t')\n",
    "\n",
    "print(\"Yelp: \", df_yelp)\n",
    "print(\"Amazon: \", df_amazon)\n",
    "print(\"IMDB: \", df_imdb)"
   ]
  }
 ],
 "metadata": {
  "kernelspec": {
   "display_name": "Python 3",
   "language": "python",
   "name": "python3"
  },
  "language_info": {
   "codemirror_mode": {
    "name": "ipython",
    "version": 3
   },
   "file_extension": ".py",
   "mimetype": "text/x-python",
   "name": "python",
   "nbconvert_exporter": "python",
   "pygments_lexer": "ipython3",
   "version": "3.13.7"
  }
 },
 "nbformat": 4,
 "nbformat_minor": 5
}
